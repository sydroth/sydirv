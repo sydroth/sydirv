{
 "cells": [
  {
   "cell_type": "code",
   "execution_count": 1,
   "metadata": {},
   "outputs": [],
   "source": [
    "import pandas as pd\n",
    "import numpy as np\n",
    "import matplotlib.pyplot as plt\n",
    "import seaborn as sns"
   ]
  },
  {
   "cell_type": "code",
   "execution_count": 2,
   "metadata": {},
   "outputs": [],
   "source": [
    "bo_mojo = pd.read_csv('unzippedData/bom.movie_gross.csv')"
   ]
  },
  {
   "cell_type": "code",
   "execution_count": 3,
   "metadata": {},
   "outputs": [],
   "source": [
    "the_numbers = pd.read_csv('unzippedData/tn.movie_budgets.csv')"
   ]
  },
  {
   "cell_type": "code",
   "execution_count": null,
   "metadata": {},
   "outputs": [],
   "source": []
  },
  {
   "cell_type": "code",
   "execution_count": null,
   "metadata": {},
   "outputs": [],
   "source": [
    "#in the-numbers:\n",
    "#convert release date to date format\n",
    "#convert dollar figures to int format\n",
    "\n",
    "the_numbers['release_date']=pd.to_datetime(the_numbers['release_date'])\n",
    "the_numbers['production_budget'] = the_numbers['production_budget'].str.replace(',', '').str.replace('$', '').astype(int)\n",
    "the_numbers['domestic_gross'] = the_numbers['domestic_gross'].str.replace(',', '').str.replace('$', '').astype(int)\n",
    "the_numbers['worldwide_gross'] = the_numbers['worldwide_gross'].str.replace(',', '').str.replace('$', '').astype(int)"
   ]
  },
  {
   "cell_type": "code",
   "execution_count": 5,
   "metadata": {},
   "outputs": [],
   "source": [
    "#add column for worldwide profitability\n",
    "the_numbers['Worldwide Profitability'] = the_numbers['worldwide_gross']/the_numbers['production_budget']"
   ]
  },
  {
   "cell_type": "code",
   "execution_count": 6,
   "metadata": {},
   "outputs": [],
   "source": [
    "#add column for domestic profitability\n",
    "the_numbers['Domestic Profitability'] = the_numbers['domestic_gross']/the_numbers['production_budget']"
   ]
  },
  {
   "cell_type": "code",
   "execution_count": 7,
   "metadata": {},
   "outputs": [],
   "source": [
    "imdb_title_basics=pd.read_csv('unzippedData/imdb.title.basics.csv') #movie title, year, runtime, genre"
   ]
  },
  {
   "cell_type": "code",
   "execution_count": 8,
   "metadata": {},
   "outputs": [],
   "source": [
    "#in imdb-title-basics:\n",
    "#only movies aafter 2009\n",
    "imdb_title_basics=imdb_title_basics[imdb_title_basics['start_year']>2009] "
   ]
  },
  {
   "cell_type": "code",
   "execution_count": 9,
   "metadata": {},
   "outputs": [],
   "source": [
    "#cut out movies less than 75 minutes, more than 4 hours\n",
    "imdb_title_basics=imdb_title_basics[~(imdb_title_basics['runtime_minutes']>240) & ~(imdb_title_basics['runtime_minutes']<75)]"
   ]
  },
  {
   "cell_type": "code",
   "execution_count": 10,
   "metadata": {},
   "outputs": [],
   "source": [
    "#drop all duplicate movie titles\n",
    "imdb_title_basics = imdb_title_basics.drop_duplicates('primary_title', keep=False)"
   ]
  },
  {
   "cell_type": "code",
   "execution_count": 11,
   "metadata": {},
   "outputs": [],
   "source": [
    "#change imdb-title-basics column name to align with 'the-numbers' data\n",
    "imdb_title_basics.rename(columns={'primary_title':'movie'}, inplace=True)"
   ]
  },
  {
   "cell_type": "code",
   "execution_count": 12,
   "metadata": {},
   "outputs": [],
   "source": [
    "#make only one genre entry per column\n",
    "imdb_title_basics['Genre 1']=imdb_title_basics['genres'].str.split(',', expand=True)[0]\n",
    "imdb_title_basics['Genre 2']=imdb_title_basics['genres'].str.split(',', expand=True)[1]\n",
    "imdb_title_basics['Genre 3']=imdb_title_basics['genres'].str.split(',', expand=True)[2]"
   ]
  },
  {
   "cell_type": "code",
   "execution_count": 13,
   "metadata": {},
   "outputs": [],
   "source": [
    "#compile set of genres\n",
    "genres_1 = list(imdb_title_basics['Genre 1'].unique())\n",
    "genres_2 = list(imdb_title_basics['Genre 2'].unique())\n",
    "genres_3 = list(imdb_title_basics['Genre 3'].unique())\n",
    "genre_set = set(genres_1 + genres_2 + genres_3)"
   ]
  },
  {
   "cell_type": "code",
   "execution_count": 14,
   "metadata": {},
   "outputs": [],
   "source": [
    "the_numbers.set_index('movie', inplace=True)"
   ]
  },
  {
   "cell_type": "code",
   "execution_count": 15,
   "metadata": {},
   "outputs": [],
   "source": [
    "imdb_title_basics.set_index('movie', inplace=True, drop=False)"
   ]
  },
  {
   "cell_type": "code",
   "execution_count": 16,
   "metadata": {},
   "outputs": [],
   "source": [
    "#the-numbers joined with IMDB-title-basics\n",
    "joined_df = the_numbers.join(imdb_title_basics, how='left') "
   ]
  },
  {
   "cell_type": "code",
   "execution_count": 17,
   "metadata": {},
   "outputs": [],
   "source": [
    "#READ IN THIRD DATASET: IMDB-TITLE-RATINGS\n",
    "imdb_title_ratings=pd.read_csv('unzippedData/imdb.title.ratings.csv') #average rating, number of votes"
   ]
  },
  {
   "cell_type": "code",
   "execution_count": 18,
   "metadata": {},
   "outputs": [],
   "source": [
    "#prepare to combine imdb-title-basics and imdb-title-ratings\n",
    "imdb_title_basics.set_index('tconst', inplace=True)\n",
    "imdb_title_ratings.set_index('tconst', inplace=True)"
   ]
  },
  {
   "cell_type": "code",
   "execution_count": 19,
   "metadata": {},
   "outputs": [],
   "source": [
    "imdb_combined = imdb_title_ratings.join(imdb_title_basics, how='left') #IMDB-title-ratings + IMDB-title-basics\n",
    "#imdb_combined.head()"
   ]
  },
  {
   "cell_type": "code",
   "execution_count": 20,
   "metadata": {},
   "outputs": [],
   "source": [
    "#imdb_combined['movie'].value_counts() #now have ratings and movie names in same Dataframe"
   ]
  },
  {
   "cell_type": "code",
   "execution_count": 21,
   "metadata": {},
   "outputs": [
    {
     "name": "stdout",
     "output_type": "stream",
     "text": [
      "<class 'pandas.core.frame.DataFrame'>\n",
      "Index: 73856 entries, Laiye Je Yaarian to Sathru\n",
      "Data columns (total 9 columns):\n",
      "averagerating      73856 non-null float64\n",
      "numvotes           73856 non-null int64\n",
      "original_title     56637 non-null object\n",
      "start_year         56637 non-null float64\n",
      "runtime_minutes    49709 non-null float64\n",
      "genres             56080 non-null object\n",
      "Genre 1            56080 non-null object\n",
      "Genre 2            28643 non-null object\n",
      "Genre 3            14361 non-null object\n",
      "dtypes: float64(3), int64(1), object(5)\n",
      "memory usage: 5.6+ MB\n"
     ]
    }
   ],
   "source": [
    "#can now add earnings/budget information from the-numbers\n",
    "imdb_combined.set_index('movie', inplace=True)\n",
    "imdb_combined.info() #~73000 entries\n",
    "#the_numbers.info() #5782 entries"
   ]
  },
  {
   "cell_type": "code",
   "execution_count": 22,
   "metadata": {},
   "outputs": [],
   "source": [
    "#combine the-numbers with the combined IMDB data\n",
    "the_numbers_imdb_combined = the_numbers.join(imdb_combined, how='left')\n"
   ]
  },
  {
   "cell_type": "code",
   "execution_count": 23,
   "metadata": {},
   "outputs": [],
   "source": [
    "#the_numbers_imdb_combined.info() #5,782 entries for seasonality vs profitability. otherwise, just ~1,600"
   ]
  },
  {
   "cell_type": "code",
   "execution_count": 24,
   "metadata": {},
   "outputs": [],
   "source": [
    "#remove entries that were only from the-numbers and not IMDB\n",
    "the_numbers_imdb_combined2=the_numbers_imdb_combined[the_numbers_imdb_combined['averagerating'].isna()==False]\n",
    "#the_numbers_imdb_combined2.info()"
   ]
  },
  {
   "cell_type": "code",
   "execution_count": 25,
   "metadata": {},
   "outputs": [],
   "source": [
    "#the_numbers_imdb_combined2.head()"
   ]
  },
  {
   "cell_type": "code",
   "execution_count": 26,
   "metadata": {},
   "outputs": [],
   "source": [
    "main_df = the_numbers_imdb_combined2\n",
    "#main_df.head()"
   ]
  },
  {
   "cell_type": "code",
   "execution_count": 27,
   "metadata": {},
   "outputs": [
    {
     "name": "stderr",
     "output_type": "stream",
     "text": [
      "/opt/anaconda3/envs/learn-env/lib/python3.6/site-packages/pandas/core/frame.py:4102: SettingWithCopyWarning: \n",
      "A value is trying to be set on a copy of a slice from a DataFrame\n",
      "\n",
      "See the caveats in the documentation: http://pandas.pydata.org/pandas-docs/stable/user_guide/indexing.html#returning-a-view-versus-a-copy\n",
      "  errors=errors,\n"
     ]
    }
   ],
   "source": [
    "#drop unnecessary columns\n",
    "#IF THE FOLLOWING RETURNS AN ERROR DON'T WORRY ABOUT IT!!!!!\n",
    "main_df.drop(['original_title', 'start_year', 'genres'], axis=1, inplace=True)"
   ]
  },
  {
   "cell_type": "code",
   "execution_count": 28,
   "metadata": {},
   "outputs": [],
   "source": [
    "#fourth data set, for information on studios\n",
    "#bo_mojo.head()"
   ]
  },
  {
   "cell_type": "code",
   "execution_count": 29,
   "metadata": {},
   "outputs": [],
   "source": [
    "#align movie name column in preparation for join\n",
    "bo_mojo = bo_mojo.rename(columns={'title':'movie'})\n",
    "bo_mojo = bo_mojo.set_index('movie')"
   ]
  },
  {
   "cell_type": "code",
   "execution_count": 30,
   "metadata": {},
   "outputs": [],
   "source": [
    "#preserve title of movie\n",
    "bo_mojo['movie']=bo_mojo.index"
   ]
  },
  {
   "cell_type": "code",
   "execution_count": 31,
   "metadata": {},
   "outputs": [],
   "source": [
    "#strip movie of ending year-in-parentheses\n",
    "movie_stripped =[]\n",
    "for x in bo_mojo.movie:\n",
    "    if '(' in x:\n",
    "        movie_stripped.append(x[:(x.find('(')-1)])\n",
    "    else:\n",
    "        movie_stripped.append(x)\n",
    "\n",
    "bo_mojo['movie']=movie_stripped"
   ]
  },
  {
   "cell_type": "code",
   "execution_count": 32,
   "metadata": {},
   "outputs": [],
   "source": [
    "#set index as movie without ending year-in-parentheses\n",
    "bo_mojo.set_index('movie', inplace=True)"
   ]
  },
  {
   "cell_type": "code",
   "execution_count": 33,
   "metadata": {},
   "outputs": [],
   "source": [
    "#drop \n",
    "bo_mojo.drop(columns=['domestic_gross', 'foreign_gross'], axis=1, inplace=True)\n",
    "#bo_mojo.head()"
   ]
  },
  {
   "cell_type": "code",
   "execution_count": 34,
   "metadata": {},
   "outputs": [],
   "source": [
    "#combine the previous IMDB-thenumbers with bomojo\n",
    "main_df2=main_df.join(bo_mojo, how='left')\n",
    "#main_df2.head()"
   ]
  },
  {
   "cell_type": "code",
   "execution_count": 35,
   "metadata": {},
   "outputs": [],
   "source": [
    "main_df2.drop(['year'], axis=1, inplace=True)\n",
    "#main_df2.head()"
   ]
  },
  {
   "cell_type": "code",
   "execution_count": 36,
   "metadata": {},
   "outputs": [],
   "source": [
    "main_df3=main_df2"
   ]
  },
  {
   "cell_type": "code",
   "execution_count": 37,
   "metadata": {},
   "outputs": [],
   "source": [
    "#restrict release date to 2010-\n",
    "#restrict production budget to >=$1,000,000\n",
    "main_df3 = main_df3[main_df3['release_date'].dt.year>2009]\n",
    "main_df3 = main_df3[main_df3['production_budget']>=1000000]"
   ]
  },
  {
   "cell_type": "code",
   "execution_count": 38,
   "metadata": {},
   "outputs": [],
   "source": [
    "#create new category: no studio given is \"small studio\"\n",
    "main_df3['studio'].fillna(value='small studio', inplace=True)"
   ]
  },
  {
   "cell_type": "code",
   "execution_count": 39,
   "metadata": {},
   "outputs": [],
   "source": [
    "#replace $0 with NaN for worldwide gross\n",
    "main_df3['worldwide_gross'] = main_df3['worldwide_gross'].replace(0,np.nan)\n",
    "# s = pd.Series([0, 1, 2, 0, 4])\n",
    "# s.replace(0, np.nan)"
   ]
  },
  {
   "cell_type": "code",
   "execution_count": 40,
   "metadata": {},
   "outputs": [],
   "source": [
    "#create list of Top10 biggest studios plus \"small studio\"\n",
    "studio_list=list(main_df3['studio'].value_counts().head(11).index)\n",
    "biggest_studios_df=main_df3[main_df3['studio'].isin(studio_list)]"
   ]
  },
  {
   "cell_type": "code",
   "execution_count": 41,
   "metadata": {},
   "outputs": [
    {
     "data": {
      "image/png": "[encoded data removed]",
      "text/plain": [
       "<Figure size 1080x720 with 1 Axes>"
      ]
     },
     "metadata": {
      "needs_background": "light"
     },
     "output_type": "display_data"
    }
   ],
   "source": [
    "#create plot of earnings by studio\n",
    "plt.figure(figsize=(15,10))\n",
    "ax1 = sns.barplot('studio', 'Worldwide Profitability', data=biggest_studios_df)\n",
    "plt.title('Earnings by Studio')\n",
    "plt.xlabel('Studio')\n",
    "plt.xticks(rotation=45)\n",
    "plt.ylabel('WW Profitability')\n",
    "plt.show()"
   ]
  },
  {
   "cell_type": "code",
   "execution_count": 42,
   "metadata": {},
   "outputs": [
    {
     "data": {
      "image/png": "[encoded data removed]",
      "text/plain": [
       "<Figure size 1080x720 with 1 Axes>"
      ]
     },
     "metadata": {
      "needs_background": "light"
     },
     "output_type": "display_data"
    }
   ],
   "source": [
    "#create plot of ratings by studio\n",
    "plt.figure(figsize=(15,10))\n",
    "ax1 = sns.barplot('studio', 'averagerating', data=biggest_studios_df)\n",
    "plt.title('Ratings by Studio')\n",
    "plt.xlabel('Studio')\n",
    "plt.xticks(rotation=45)\n",
    "plt.ylabel('Average Movie Rating')\n",
    "plt.show()"
   ]
  },
  {
   "cell_type": "code",
   "execution_count": 43,
   "metadata": {},
   "outputs": [
    {
     "data": {
      "text/plain": [
       "{0: [nan],\n",
       " 1: ['Crime'],\n",
       " 2: [None],\n",
       " 3: ['Music'],\n",
       " 4: ['Fantasy'],\n",
       " 5: ['Family'],\n",
       " 6: ['Sport'],\n",
       " 7: ['War'],\n",
       " 8: ['Animation'],\n",
       " 9: ['News'],\n",
       " 10: ['Game-Show'],\n",
       " 11: ['Thriller'],\n",
       " 12: ['Action'],\n",
       " 13: ['Documentary'],\n",
       " 14: ['Sci-Fi'],\n",
       " 15: ['Reality-TV'],\n",
       " 16: ['Biography'],\n",
       " 17: ['Western'],\n",
       " 18: ['Short'],\n",
       " 19: ['Romance'],\n",
       " 20: ['Musical'],\n",
       " 21: ['Mystery'],\n",
       " 22: ['Horror'],\n",
       " 23: ['Drama'],\n",
       " 24: ['Comedy'],\n",
       " 25: ['Talk-Show'],\n",
       " 26: ['Adult'],\n",
       " 27: ['History'],\n",
       " 28: ['Adventure']}"
      ]
     },
     "execution_count": 43,
     "metadata": {},
     "output_type": "execute_result"
    }
   ],
   "source": [
    "#create dictionary with values as genres\n",
    "genre_dict={}\n",
    "for i, genre in zip(range(len(genre_set)), genre_set):\n",
    "        genre_dict[i]=[genre]"
   ]
  },
  {
   "cell_type": "code",
   "execution_count": 44,
   "metadata": {},
   "outputs": [],
   "source": [
    "#append to dictionary values for average ratings and of worldwide profitability\n",
    "for i in range(29):\n",
    "    genre_df_current = main_df3[(main_df3['Genre 1']==genre_dict[i][0]) | (main_df3['Genre 2']==genre_dict[i][0]) | (main_df3['Genre 3']==genre_dict[i][0])]\n",
    "    average_ratings = genre_df_current['averagerating'].median()\n",
    "    worldwide_profitability = genre_df_current['Worldwide Profitability'].median()\n",
    "    genre_dict[i].append(average_ratings)\n",
    "    genre_dict[i].append(worldwide_profitability)\n"
   ]
  },
  {
   "cell_type": "code",
   "execution_count": 45,
   "metadata": {},
   "outputs": [
    {
     "data": {
      "text/plain": [
       "{1: ['Crime', 6.4, 1.3835807714285715],\n",
       " 3: ['Music', 6.3, 2.3523288],\n",
       " 4: ['Fantasy', 6.2, 2.0322858315686276],\n",
       " 5: ['Family', 6.3, 2.0092608],\n",
       " 6: ['Sport', 6.8, 1.230472555],\n",
       " 7: ['War', 6.449999999999999, 0.6089239027777777],\n",
       " 8: ['Animation', 6.7, 2.7798676590909093],\n",
       " 11: ['Thriller', 6.2, 2.2393101953846153],\n",
       " 12: ['Action', 6.3, 2.1314258733333333],\n",
       " 13: ['Documentary', 7.3, 1.49166775],\n",
       " 14: ['Sci-Fi', 6.45, 2.587989810714286],\n",
       " 16: ['Biography', 7.1, 1.831969397574124],\n",
       " 17: ['Western', 6.5, 0.7242810937499999],\n",
       " 19: ['Romance', 6.3, 2.260071219607843],\n",
       " 20: ['Musical', 5.9, 0.102649],\n",
       " 21: ['Mystery', 6.3, 2.6426119699699697],\n",
       " 22: ['Horror', 5.7, 2.220753473809524],\n",
       " 23: ['Drama', 6.6, 1.6434994416666666],\n",
       " 24: ['Comedy', 6.3, 2.254639607142857],\n",
       " 27: ['History', 7.0, 1.2581193444444443],\n",
       " 28: ['Adventure', 6.5, 2.537862753397467]}"
      ]
     },
     "execution_count": 45,
     "metadata": {},
     "output_type": "execute_result"
    }
   ],
   "source": [
    "#exclude genres with no avilable data\n",
    "for i in range(29):\n",
    "    if str(genre_dict[i][1])=='nan':\n",
    "        del genre_dict[i]\n",
    "    else:\n",
    "        pass\n",
    "genre_dict"
   ]
  },
  {
   "cell_type": "code",
   "execution_count": 46,
   "metadata": {},
   "outputs": [
    {
     "data": {
      "text/html": [
       "<div>\n",
       "<style scoped>\n",
       "    .dataframe tbody tr th:only-of-type {\n",
       "        vertical-align: middle;\n",
       "    }\n",
       "\n",
       "    .dataframe tbody tr th {\n",
       "        vertical-align: top;\n",
       "    }\n",
       "\n",
       "    .dataframe thead th {\n",
       "        text-align: right;\n",
       "    }\n",
       "</style>\n",
       "<table border=\"1\" class=\"dataframe\">\n",
       "  <thead>\n",
       "    <tr style=\"text-align: right;\">\n",
       "      <th></th>\n",
       "      <th>Genre</th>\n",
       "      <th>Average Ratings</th>\n",
       "      <th>Worldwide Profitability</th>\n",
       "    </tr>\n",
       "  </thead>\n",
       "  <tbody>\n",
       "    <tr>\n",
       "      <td>1</td>\n",
       "      <td>Crime</td>\n",
       "      <td>6.40</td>\n",
       "      <td>1.383581</td>\n",
       "    </tr>\n",
       "    <tr>\n",
       "      <td>3</td>\n",
       "      <td>Music</td>\n",
       "      <td>6.30</td>\n",
       "      <td>2.352329</td>\n",
       "    </tr>\n",
       "    <tr>\n",
       "      <td>4</td>\n",
       "      <td>Fantasy</td>\n",
       "      <td>6.20</td>\n",
       "      <td>2.032286</td>\n",
       "    </tr>\n",
       "    <tr>\n",
       "      <td>5</td>\n",
       "      <td>Family</td>\n",
       "      <td>6.30</td>\n",
       "      <td>2.009261</td>\n",
       "    </tr>\n",
       "    <tr>\n",
       "      <td>6</td>\n",
       "      <td>Sport</td>\n",
       "      <td>6.80</td>\n",
       "      <td>1.230473</td>\n",
       "    </tr>\n",
       "    <tr>\n",
       "      <td>7</td>\n",
       "      <td>War</td>\n",
       "      <td>6.45</td>\n",
       "      <td>0.608924</td>\n",
       "    </tr>\n",
       "    <tr>\n",
       "      <td>8</td>\n",
       "      <td>Animation</td>\n",
       "      <td>6.70</td>\n",
       "      <td>2.779868</td>\n",
       "    </tr>\n",
       "    <tr>\n",
       "      <td>11</td>\n",
       "      <td>Thriller</td>\n",
       "      <td>6.20</td>\n",
       "      <td>2.239310</td>\n",
       "    </tr>\n",
       "    <tr>\n",
       "      <td>12</td>\n",
       "      <td>Action</td>\n",
       "      <td>6.30</td>\n",
       "      <td>2.131426</td>\n",
       "    </tr>\n",
       "    <tr>\n",
       "      <td>13</td>\n",
       "      <td>Documentary</td>\n",
       "      <td>7.30</td>\n",
       "      <td>1.491668</td>\n",
       "    </tr>\n",
       "    <tr>\n",
       "      <td>14</td>\n",
       "      <td>Sci-Fi</td>\n",
       "      <td>6.45</td>\n",
       "      <td>2.587990</td>\n",
       "    </tr>\n",
       "    <tr>\n",
       "      <td>16</td>\n",
       "      <td>Biography</td>\n",
       "      <td>7.10</td>\n",
       "      <td>1.831969</td>\n",
       "    </tr>\n",
       "    <tr>\n",
       "      <td>17</td>\n",
       "      <td>Western</td>\n",
       "      <td>6.50</td>\n",
       "      <td>0.724281</td>\n",
       "    </tr>\n",
       "    <tr>\n",
       "      <td>19</td>\n",
       "      <td>Romance</td>\n",
       "      <td>6.30</td>\n",
       "      <td>2.260071</td>\n",
       "    </tr>\n",
       "    <tr>\n",
       "      <td>20</td>\n",
       "      <td>Musical</td>\n",
       "      <td>5.90</td>\n",
       "      <td>0.102649</td>\n",
       "    </tr>\n",
       "    <tr>\n",
       "      <td>21</td>\n",
       "      <td>Mystery</td>\n",
       "      <td>6.30</td>\n",
       "      <td>2.642612</td>\n",
       "    </tr>\n",
       "    <tr>\n",
       "      <td>22</td>\n",
       "      <td>Horror</td>\n",
       "      <td>5.70</td>\n",
       "      <td>2.220753</td>\n",
       "    </tr>\n",
       "    <tr>\n",
       "      <td>23</td>\n",
       "      <td>Drama</td>\n",
       "      <td>6.60</td>\n",
       "      <td>1.643499</td>\n",
       "    </tr>\n",
       "    <tr>\n",
       "      <td>24</td>\n",
       "      <td>Comedy</td>\n",
       "      <td>6.30</td>\n",
       "      <td>2.254640</td>\n",
       "    </tr>\n",
       "    <tr>\n",
       "      <td>27</td>\n",
       "      <td>History</td>\n",
       "      <td>7.00</td>\n",
       "      <td>1.258119</td>\n",
       "    </tr>\n",
       "    <tr>\n",
       "      <td>28</td>\n",
       "      <td>Adventure</td>\n",
       "      <td>6.50</td>\n",
       "      <td>2.537863</td>\n",
       "    </tr>\n",
       "  </tbody>\n",
       "</table>\n",
       "</div>"
      ],
      "text/plain": [
       "          Genre  Average Ratings  Worldwide Profitability\n",
       "1         Crime             6.40                 1.383581\n",
       "3         Music             6.30                 2.352329\n",
       "4       Fantasy             6.20                 2.032286\n",
       "5        Family             6.30                 2.009261\n",
       "6         Sport             6.80                 1.230473\n",
       "7           War             6.45                 0.608924\n",
       "8     Animation             6.70                 2.779868\n",
       "11     Thriller             6.20                 2.239310\n",
       "12       Action             6.30                 2.131426\n",
       "13  Documentary             7.30                 1.491668\n",
       "14       Sci-Fi             6.45                 2.587990\n",
       "16    Biography             7.10                 1.831969\n",
       "17      Western             6.50                 0.724281\n",
       "19      Romance             6.30                 2.260071\n",
       "20      Musical             5.90                 0.102649\n",
       "21      Mystery             6.30                 2.642612\n",
       "22       Horror             5.70                 2.220753\n",
       "23        Drama             6.60                 1.643499\n",
       "24       Comedy             6.30                 2.254640\n",
       "27      History             7.00                 1.258119\n",
       "28    Adventure             6.50                 2.537863"
      ]
     },
     "execution_count": 46,
     "metadata": {},
     "output_type": "execute_result"
    }
   ],
   "source": [
    "#create dataframe based on genre dictionary\n",
    "main_genre_df = pd.DataFrame.from_dict(genre_dict, orient='index',columns=['Genre', 'Average Ratings', 'Worldwide Profitability'])\n",
    "main_genre_df       "
   ]
  },
  {
   "cell_type": "code",
   "execution_count": 47,
   "metadata": {},
   "outputs": [
    {
     "data": {
      "image/png": "[encoded data removed]",
      "text/plain": [
       "<Figure size 1080x720 with 1 Axes>"
      ]
     },
     "metadata": {
      "needs_background": "light"
     },
     "output_type": "display_data"
    }
   ],
   "source": [
    "#plot median rating by genre\n",
    "plt.figure(figsize=(15,10))\n",
    "ax1 = sns.barplot('Genre', 'Average Ratings', data=main_genre_df)\n",
    "plt.title('Ratings by Genre')\n",
    "plt.xlabel('Genre')\n",
    "plt.xticks(rotation=45)\n",
    "plt.ylabel('Average Movie Rating')\n",
    "plt.show()"
   ]
  },
  {
   "cell_type": "code",
   "execution_count": 48,
   "metadata": {},
   "outputs": [
    {
     "data": {
      "image/png": "[encoded data removed]",
      "text/plain": [
       "<Figure size 1080x720 with 1 Axes>"
      ]
     },
     "metadata": {
      "needs_background": "light"
     },
     "output_type": "display_data"
    }
   ],
   "source": [
    "#plot median earnings by genre\n",
    "plt.figure(figsize=(15,10))\n",
    "ax1 = sns.barplot('Genre', 'Worldwide Profitability', data=main_genre_df)\n",
    "plt.title('Profitability by Genre')\n",
    "plt.xlabel('Genre')\n",
    "plt.xticks(rotation=45)\n",
    "# plt.ylabel('Worldwide Profitability')\n",
    "plt.show()"
   ]
  },
  {
   "cell_type": "code",
   "execution_count": null,
   "metadata": {},
   "outputs": [],
   "source": []
  }
 ],
 "metadata": {
  "kernelspec": {
   "display_name": "learn-env",
   "language": "python",
   "name": "learn-env"
  },
  "language_info": {
   "codemirror_mode": {
    "name": "ipython",
    "version": 3
   },
   "file_extension": ".py",
   "mimetype": "text/x-python",
   "name": "python",
   "nbconvert_exporter": "python",
   "pygments_lexer": "ipython3",
   "version": "3.6.9"
  }
 },
 "nbformat": 4,
 "nbformat_minor": 4
}
