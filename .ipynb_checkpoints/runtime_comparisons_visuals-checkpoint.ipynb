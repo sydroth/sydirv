{
 "cells": [
  {
   "cell_type": "code",
   "execution_count": 8,
   "metadata": {},
   "outputs": [],
   "source": [
    "import pandas as pd\n",
    "import numpy as np\n",
    "import seaborn as sns\n",
    "import matplotlib as plt"
   ]
  },
  {
   "cell_type": "code",
   "execution_count": 1,
   "metadata": {},
   "outputs": [],
   "source": [
    "%load_ext autoreload\n",
    "%autoreload 2"
   ]
  },
  {
   "cell_type": "code",
   "execution_count": 7,
   "metadata": {
    "scrolled": true
   },
   "outputs": [
    {
     "name": "stdout",
     "output_type": "stream",
     "text": [
      "<class 'pandas.core.frame.DataFrame'>\n",
      "Index: 146144 entries, tt0063540 to tt9916754\n",
      "Data columns (total 5 columns):\n",
      "title              146144 non-null object\n",
      "release_year       146144 non-null int64\n",
      "runtime_minutes    114405 non-null float64\n",
      "region             107489 non-null object\n",
      "rating_percent     73856 non-null float64\n",
      "dtypes: float64(2), int64(1), object(2)\n",
      "memory usage: 6.7+ MB\n",
      "<class 'pandas.core.frame.DataFrame'>\n",
      "Index: 52158 entries, tt0063540 to tt9903952\n",
      "Data columns (total 5 columns):\n",
      "title              52158 non-null object\n",
      "release_year       52158 non-null int64\n",
      "runtime_minutes    52158 non-null float64\n",
      "region             52158 non-null object\n",
      "rating_percent     52158 non-null float64\n",
      "dtypes: float64(2), int64(1), object(2)\n",
      "memory usage: 2.4+ MB\n"
     ]
    }
   ],
   "source": [
    "%run runtime_comparisons_data_cleaning.ipynb as rt_dc"
   ]
  },
  {
   "cell_type": "code",
   "execution_count": null,
   "metadata": {},
   "outputs": [],
   "source": [
    "dataset = sns.load_dataset('runtimes_df')"
   ]
  },
  {
   "cell_type": "code",
   "execution_count": null,
   "metadata": {},
   "outputs": [],
   "source": [
    "#plt.figure(figsize=(10,6))\n",
    "#sns.swarmplot(x='rating_percent', y='runtime_minutes', data=runtimes_df, hue='region', split=True)\n",
    "#plt.legend(bbox_to_anchor=(1,1), loc=2)"
   ]
  },
  {
   "cell_type": "code",
   "execution_count": null,
   "metadata": {},
   "outputs": [],
   "source": []
  }
 ],
 "metadata": {
  "kernelspec": {
   "display_name": "Python 3",
   "language": "python",
   "name": "python3"
  },
  "language_info": {
   "codemirror_mode": {
    "name": "ipython",
    "version": 3
   },
   "file_extension": ".py",
   "mimetype": "text/x-python",
   "name": "python",
   "nbconvert_exporter": "python",
   "pygments_lexer": "ipython3",
   "version": "3.6.9"
  }
 },
 "nbformat": 4,
 "nbformat_minor": 2
}
