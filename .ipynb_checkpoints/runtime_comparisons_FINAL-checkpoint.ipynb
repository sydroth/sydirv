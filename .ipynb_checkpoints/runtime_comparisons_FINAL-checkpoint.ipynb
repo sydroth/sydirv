{
 "cells": [
  {
   "cell_type": "markdown",
   "metadata": {},
   "source": [
    "# Question 1: Do geographical boundaries affect audience reception of runtimes? Have there been any changing trends?"
   ]
  },
  {
   "cell_type": "code",
   "execution_count": 1,
   "metadata": {},
   "outputs": [],
   "source": [
    "import pandas as pd\n",
    "import numpy as np\n",
    "import matplotlib as plt\n",
    "import seaborn as sns"
   ]
  },
  {
   "cell_type": "code",
   "execution_count": 2,
   "metadata": {},
   "outputs": [],
   "source": [
    "imdb_title_akas = pd.read_csv('unzippedData/imdb.title.akas.csv')\n",
    "imdb_title_basics = pd.read_csv('unzippedData/imdb.title.basics.csv')\n",
    "imdb_title_ratings = pd.read_csv('unzippedData/imdb.title.ratings.csv')"
   ]
  },
  {
   "cell_type": "markdown",
   "metadata": {},
   "source": [
    "### We need the following information from these tables:\n",
    " - imdb_title_akas - tconst, region\n",
    " - imdb_title_basics - tconst, primary_title, start_year, runtime_minutes\n",
    " - imdb_title_ratings - tconst, averagerating, numvotes  "
   ]
  },
  {
   "cell_type": "code",
   "execution_count": 3,
   "metadata": {
    "scrolled": true
   },
   "outputs": [],
   "source": [
    "# Rename \"title_id\" column in imdb_title_akas as \"tconst\"- \n",
    "# these are the same values across all IMDB tables but are named weirdly.\n",
    "# This also sets tconst as index, which we'll need to ensure matching tables\n",
    "\n",
    "imdb_title_akas.rename(columns = {'title_id':'tconst'}, inplace=True) "
   ]
  },
  {
   "cell_type": "code",
   "execution_count": 4,
   "metadata": {},
   "outputs": [],
   "source": [
    "# Set \"tconst\" as index in imdb_title_akas.\n",
    "\n",
    "imdb_title_akas.set_index('tconst', inplace=True)"
   ]
  },
  {
   "cell_type": "code",
   "execution_count": 5,
   "metadata": {},
   "outputs": [],
   "source": [
    "# Set \"tconst\" as index in imdb_title_basics.\n",
    "\n",
    "imdb_title_basics.set_index('tconst', inplace=True)"
   ]
  },
  {
   "cell_type": "code",
   "execution_count": 6,
   "metadata": {},
   "outputs": [],
   "source": [
    "# Set \"tconst\" as index in imdb_title_ratings.\n",
    "\n",
    "imdb_title_ratings.set_index('tconst', inplace=True)"
   ]
  },
  {
   "cell_type": "code",
   "execution_count": 7,
   "metadata": {},
   "outputs": [],
   "source": [
    "# Boil a imdb_title_basics down to only the primary_title, start_year, and runtime_minutes columns.\n",
    "\n",
    "trimmed_basics_df = imdb_title_basics.drop(['genres', 'original_title'], axis=1)"
   ]
  },
  {
   "cell_type": "code",
   "execution_count": 8,
   "metadata": {},
   "outputs": [],
   "source": [
    "#New combined df of should have title, run time, region.\n",
    "\n",
    "basics_merge_akas_df = trimmed_basics_df.merge(imdb_title_akas['region'],how='left', left_index=True, right_index=True)\n"
   ]
  },
  {
   "cell_type": "code",
   "execution_count": 9,
   "metadata": {},
   "outputs": [
    {
     "data": {
      "text/html": [
       "<div>\n",
       "<style scoped>\n",
       "    .dataframe tbody tr th:only-of-type {\n",
       "        vertical-align: middle;\n",
       "    }\n",
       "\n",
       "    .dataframe tbody tr th {\n",
       "        vertical-align: top;\n",
       "    }\n",
       "\n",
       "    .dataframe thead th {\n",
       "        text-align: right;\n",
       "    }\n",
       "</style>\n",
       "<table border=\"1\" class=\"dataframe\">\n",
       "  <thead>\n",
       "    <tr style=\"text-align: right;\">\n",
       "      <th></th>\n",
       "      <th>primary_title</th>\n",
       "      <th>start_year</th>\n",
       "      <th>runtime_minutes</th>\n",
       "      <th>region</th>\n",
       "    </tr>\n",
       "    <tr>\n",
       "      <th>tconst</th>\n",
       "      <th></th>\n",
       "      <th></th>\n",
       "      <th></th>\n",
       "      <th></th>\n",
       "    </tr>\n",
       "  </thead>\n",
       "  <tbody>\n",
       "    <tr>\n",
       "      <td>tt0063540</td>\n",
       "      <td>Sunghursh</td>\n",
       "      <td>2013</td>\n",
       "      <td>175.0</td>\n",
       "      <td>IN</td>\n",
       "    </tr>\n",
       "    <tr>\n",
       "      <td>tt0063540</td>\n",
       "      <td>Sunghursh</td>\n",
       "      <td>2013</td>\n",
       "      <td>175.0</td>\n",
       "      <td>NaN</td>\n",
       "    </tr>\n",
       "    <tr>\n",
       "      <td>tt0063540</td>\n",
       "      <td>Sunghursh</td>\n",
       "      <td>2013</td>\n",
       "      <td>175.0</td>\n",
       "      <td>IN</td>\n",
       "    </tr>\n",
       "    <tr>\n",
       "      <td>tt0063540</td>\n",
       "      <td>Sunghursh</td>\n",
       "      <td>2013</td>\n",
       "      <td>175.0</td>\n",
       "      <td>IN</td>\n",
       "    </tr>\n",
       "    <tr>\n",
       "      <td>tt0063540</td>\n",
       "      <td>Sunghursh</td>\n",
       "      <td>2013</td>\n",
       "      <td>175.0</td>\n",
       "      <td>IN</td>\n",
       "    </tr>\n",
       "  </tbody>\n",
       "</table>\n",
       "</div>"
      ],
      "text/plain": [
       "          primary_title  start_year  runtime_minutes region\n",
       "tconst                                                     \n",
       "tt0063540     Sunghursh        2013            175.0     IN\n",
       "tt0063540     Sunghursh        2013            175.0    NaN\n",
       "tt0063540     Sunghursh        2013            175.0     IN\n",
       "tt0063540     Sunghursh        2013            175.0     IN\n",
       "tt0063540     Sunghursh        2013            175.0     IN"
      ]
     },
     "execution_count": 9,
     "metadata": {},
     "output_type": "execute_result"
    }
   ],
   "source": [
    "basics_merge_akas_df.head(5)"
   ]
  },
  {
   "cell_type": "code",
   "execution_count": 10,
   "metadata": {},
   "outputs": [],
   "source": [
    "# Create column 'rating_percent' which is 'averagerating' as a percentage.\n",
    "\n",
    "imdb_title_ratings['rating_percent'] = (imdb_title_ratings['averagerating'] * 10)"
   ]
  },
  {
   "cell_type": "code",
   "execution_count": 11,
   "metadata": {},
   "outputs": [],
   "source": [
    "trimmed_imdb_ratings_df = imdb_title_ratings.drop(['averagerating', 'numvotes'], axis=1)"
   ]
  },
  {
   "cell_type": "code",
   "execution_count": 12,
   "metadata": {},
   "outputs": [],
   "source": [
    "# Merge our new rating percent table into our basics_merge_akas\n",
    "# table to create our final runtime_comparisons table.\n",
    "\n",
    "runtimes_df = basics_merge_akas_df.merge(trimmed_imdb_ratings_df, how='left', left_index=True, right_index=True)\n"
   ]
  },
  {
   "cell_type": "code",
   "execution_count": 13,
   "metadata": {},
   "outputs": [
    {
     "data": {
      "text/html": [
       "<div>\n",
       "<style scoped>\n",
       "    .dataframe tbody tr th:only-of-type {\n",
       "        vertical-align: middle;\n",
       "    }\n",
       "\n",
       "    .dataframe tbody tr th {\n",
       "        vertical-align: top;\n",
       "    }\n",
       "\n",
       "    .dataframe thead th {\n",
       "        text-align: right;\n",
       "    }\n",
       "</style>\n",
       "<table border=\"1\" class=\"dataframe\">\n",
       "  <thead>\n",
       "    <tr style=\"text-align: right;\">\n",
       "      <th></th>\n",
       "      <th>primary_title</th>\n",
       "      <th>start_year</th>\n",
       "      <th>runtime_minutes</th>\n",
       "      <th>region</th>\n",
       "      <th>rating_percent</th>\n",
       "    </tr>\n",
       "    <tr>\n",
       "      <th>tconst</th>\n",
       "      <th></th>\n",
       "      <th></th>\n",
       "      <th></th>\n",
       "      <th></th>\n",
       "      <th></th>\n",
       "    </tr>\n",
       "  </thead>\n",
       "  <tbody>\n",
       "    <tr>\n",
       "      <td>tt0063540</td>\n",
       "      <td>Sunghursh</td>\n",
       "      <td>2013</td>\n",
       "      <td>175.0</td>\n",
       "      <td>IN</td>\n",
       "      <td>70.0</td>\n",
       "    </tr>\n",
       "    <tr>\n",
       "      <td>tt0063540</td>\n",
       "      <td>Sunghursh</td>\n",
       "      <td>2013</td>\n",
       "      <td>175.0</td>\n",
       "      <td>NaN</td>\n",
       "      <td>70.0</td>\n",
       "    </tr>\n",
       "    <tr>\n",
       "      <td>tt0063540</td>\n",
       "      <td>Sunghursh</td>\n",
       "      <td>2013</td>\n",
       "      <td>175.0</td>\n",
       "      <td>IN</td>\n",
       "      <td>70.0</td>\n",
       "    </tr>\n",
       "    <tr>\n",
       "      <td>tt0063540</td>\n",
       "      <td>Sunghursh</td>\n",
       "      <td>2013</td>\n",
       "      <td>175.0</td>\n",
       "      <td>IN</td>\n",
       "      <td>70.0</td>\n",
       "    </tr>\n",
       "    <tr>\n",
       "      <td>tt0063540</td>\n",
       "      <td>Sunghursh</td>\n",
       "      <td>2013</td>\n",
       "      <td>175.0</td>\n",
       "      <td>IN</td>\n",
       "      <td>70.0</td>\n",
       "    </tr>\n",
       "    <tr>\n",
       "      <td>tt0066787</td>\n",
       "      <td>One Day Before the Rainy Season</td>\n",
       "      <td>2019</td>\n",
       "      <td>114.0</td>\n",
       "      <td>XWW</td>\n",
       "      <td>72.0</td>\n",
       "    </tr>\n",
       "    <tr>\n",
       "      <td>tt0066787</td>\n",
       "      <td>One Day Before the Rainy Season</td>\n",
       "      <td>2019</td>\n",
       "      <td>114.0</td>\n",
       "      <td>IN</td>\n",
       "      <td>72.0</td>\n",
       "    </tr>\n",
       "    <tr>\n",
       "      <td>tt0066787</td>\n",
       "      <td>One Day Before the Rainy Season</td>\n",
       "      <td>2019</td>\n",
       "      <td>114.0</td>\n",
       "      <td>NaN</td>\n",
       "      <td>72.0</td>\n",
       "    </tr>\n",
       "    <tr>\n",
       "      <td>tt0066787</td>\n",
       "      <td>One Day Before the Rainy Season</td>\n",
       "      <td>2019</td>\n",
       "      <td>114.0</td>\n",
       "      <td>NaN</td>\n",
       "      <td>72.0</td>\n",
       "    </tr>\n",
       "    <tr>\n",
       "      <td>tt0069049</td>\n",
       "      <td>The Other Side of the Wind</td>\n",
       "      <td>2018</td>\n",
       "      <td>122.0</td>\n",
       "      <td>VE</td>\n",
       "      <td>69.0</td>\n",
       "    </tr>\n",
       "  </tbody>\n",
       "</table>\n",
       "</div>"
      ],
      "text/plain": [
       "                             primary_title  start_year  runtime_minutes  \\\n",
       "tconst                                                                    \n",
       "tt0063540                        Sunghursh        2013            175.0   \n",
       "tt0063540                        Sunghursh        2013            175.0   \n",
       "tt0063540                        Sunghursh        2013            175.0   \n",
       "tt0063540                        Sunghursh        2013            175.0   \n",
       "tt0063540                        Sunghursh        2013            175.0   \n",
       "tt0066787  One Day Before the Rainy Season        2019            114.0   \n",
       "tt0066787  One Day Before the Rainy Season        2019            114.0   \n",
       "tt0066787  One Day Before the Rainy Season        2019            114.0   \n",
       "tt0066787  One Day Before the Rainy Season        2019            114.0   \n",
       "tt0069049       The Other Side of the Wind        2018            122.0   \n",
       "\n",
       "          region  rating_percent  \n",
       "tconst                            \n",
       "tt0063540     IN            70.0  \n",
       "tt0063540    NaN            70.0  \n",
       "tt0063540     IN            70.0  \n",
       "tt0063540     IN            70.0  \n",
       "tt0063540     IN            70.0  \n",
       "tt0066787    XWW            72.0  \n",
       "tt0066787     IN            72.0  \n",
       "tt0066787    NaN            72.0  \n",
       "tt0066787    NaN            72.0  \n",
       "tt0069049     VE            69.0  "
      ]
     },
     "execution_count": 13,
     "metadata": {},
     "output_type": "execute_result"
    }
   ],
   "source": [
    "runtimes_df.head(10)"
   ]
  },
  {
   "cell_type": "code",
   "execution_count": 14,
   "metadata": {},
   "outputs": [],
   "source": [
    "# Rename start_year column as release_year in runtimes_df.\n",
    "\n",
    "runtimes_df.rename(columns = {'start_year':'release_year'}, inplace=True) "
   ]
  },
  {
   "cell_type": "code",
   "execution_count": 15,
   "metadata": {},
   "outputs": [],
   "source": [
    "# Rename primary_title column as title in runtimes_df.\n",
    "\n",
    "runtimes_df.rename(columns = {'primary_title':'title'}, inplace=True)"
   ]
  },
  {
   "cell_type": "code",
   "execution_count": 16,
   "metadata": {},
   "outputs": [],
   "source": [
    "runtimes_df = runtimes_df[~runtimes_df.index.duplicated(keep='first')]"
   ]
  },
  {
   "cell_type": "code",
   "execution_count": 17,
   "metadata": {},
   "outputs": [
    {
     "name": "stdout",
     "output_type": "stream",
     "text": [
      "<class 'pandas.core.frame.DataFrame'>\n",
      "Index: 146144 entries, tt0063540 to tt9916754\n",
      "Data columns (total 5 columns):\n",
      "title              146144 non-null object\n",
      "release_year       146144 non-null int64\n",
      "runtime_minutes    114405 non-null float64\n",
      "region             107489 non-null object\n",
      "rating_percent     73856 non-null float64\n",
      "dtypes: float64(2), int64(1), object(2)\n",
      "memory usage: 6.7+ MB\n"
     ]
    }
   ],
   "source": [
    "runtimes_df.info()"
   ]
  },
  {
   "cell_type": "code",
   "execution_count": 18,
   "metadata": {
    "scrolled": true
   },
   "outputs": [
    {
     "data": {
      "text/plain": [
       "tconst\n",
       "tt0063540    2013\n",
       "tt0066787    2019\n",
       "tt0069049    2018\n",
       "tt0069204    2018\n",
       "tt0100275    2017\n",
       "             ... \n",
       "tt9916538    2019\n",
       "tt9916622    2015\n",
       "tt9916706    2013\n",
       "tt9916730    2017\n",
       "tt9916754    2013\n",
       "Name: release_year, Length: 146144, dtype: int64"
      ]
     },
     "execution_count": 18,
     "metadata": {},
     "output_type": "execute_result"
    }
   ],
   "source": [
    "# Replace 0 values in runtimes_df['release_year'] with NaN.\n",
    "\n",
    "runtimes_df.release_year.replace(0, np.NaN)"
   ]
  },
  {
   "cell_type": "code",
   "execution_count": 19,
   "metadata": {
    "scrolled": true
   },
   "outputs": [
    {
     "data": {
      "text/plain": [
       "tconst\n",
       "tt0063540    175.0\n",
       "tt0066787    114.0\n",
       "tt0069049    122.0\n",
       "tt0069204      NaN\n",
       "tt0100275     80.0\n",
       "             ...  \n",
       "tt9916538    123.0\n",
       "tt9916622      NaN\n",
       "tt9916706      NaN\n",
       "tt9916730    116.0\n",
       "tt9916754      NaN\n",
       "Name: runtime_minutes, Length: 146144, dtype: float64"
      ]
     },
     "execution_count": 19,
     "metadata": {},
     "output_type": "execute_result"
    }
   ],
   "source": [
    "# Replace 0 values in runtimes_df['runtime_minutes'] with NaN.\n",
    "\n",
    "runtimes_df.runtime_minutes.replace(0, np.NaN)"
   ]
  },
  {
   "cell_type": "code",
   "execution_count": 20,
   "metadata": {},
   "outputs": [
    {
     "data": {
      "text/plain": [
       "tconst\n",
       "tt0063540    70.0\n",
       "tt0066787    72.0\n",
       "tt0069049    69.0\n",
       "tt0069204    61.0\n",
       "tt0100275    65.0\n",
       "             ... \n",
       "tt9916538     NaN\n",
       "tt9916622     NaN\n",
       "tt9916706     NaN\n",
       "tt9916730     NaN\n",
       "tt9916754     NaN\n",
       "Name: rating_percent, Length: 146144, dtype: float64"
      ]
     },
     "execution_count": 20,
     "metadata": {},
     "output_type": "execute_result"
    }
   ],
   "source": [
    "# Replace 0 values in runtimes_df['rating_percent'] with NaN.\n",
    "\n",
    "runtimes_df.rating_percent.replace(0, np.NaN)"
   ]
  },
  {
   "cell_type": "code",
   "execution_count": 21,
   "metadata": {},
   "outputs": [],
   "source": [
    "# Drop rows with any NaN values; all columns are needed for analysis.\n",
    "\n",
    "runtimes_df = runtimes_df.dropna()"
   ]
  },
  {
   "cell_type": "code",
   "execution_count": 22,
   "metadata": {
    "scrolled": true
   },
   "outputs": [
    {
     "name": "stdout",
     "output_type": "stream",
     "text": [
      "<class 'pandas.core.frame.DataFrame'>\n",
      "Index: 52158 entries, tt0063540 to tt9903952\n",
      "Data columns (total 5 columns):\n",
      "title              52158 non-null object\n",
      "release_year       52158 non-null int64\n",
      "runtime_minutes    52158 non-null float64\n",
      "region             52158 non-null object\n",
      "rating_percent     52158 non-null float64\n",
      "dtypes: float64(2), int64(1), object(2)\n",
      "memory usage: 2.4+ MB\n"
     ]
    }
   ],
   "source": [
    "runtimes_df.info()"
   ]
  },
  {
   "cell_type": "code",
   "execution_count": 23,
   "metadata": {},
   "outputs": [
    {
     "data": {
      "text/plain": [
       "tconst\n",
       "tt0063540    2013\n",
       "tt0066787    2019\n",
       "tt0069049    2018\n",
       "tt0137204    2017\n",
       "tt0146592    2010\n",
       "             ... \n",
       "tt9846154    2018\n",
       "tt9879060    2018\n",
       "tt9899840    2018\n",
       "tt9899860    2019\n",
       "tt9903952    2018\n",
       "Name: release_year, Length: 52158, dtype: int64"
      ]
     },
     "execution_count": 23,
     "metadata": {},
     "output_type": "execute_result"
    }
   ],
   "source": [
    "runtimes_df.release_year.astype(int, inplace=True)"
   ]
  },
  {
   "cell_type": "code",
   "execution_count": 24,
   "metadata": {
    "scrolled": true
   },
   "outputs": [],
   "source": [
    "# Remove everything outside of 2010 - 2018.\n",
    "\n",
    "runtimes_df.drop(runtimes_df[runtimes_df['release_year'] > 2018].index, inplace=True) "
   ]
  },
  {
   "cell_type": "code",
   "execution_count": 25,
   "metadata": {},
   "outputs": [],
   "source": [
    "# Remove anything with runtime_minutes under 75 minutes and over 240 minutes.\n",
    "\n",
    "runtimes_df.drop(runtimes_df[(runtimes_df['runtime_minutes'] < 75) | (runtimes_df['runtime_minutes'] > 240)].index, inplace=True)"
   ]
  },
  {
   "cell_type": "code",
   "execution_count": 26,
   "metadata": {
    "scrolled": true
   },
   "outputs": [
    {
     "data": {
      "text/html": [
       "<div>\n",
       "<style scoped>\n",
       "    .dataframe tbody tr th:only-of-type {\n",
       "        vertical-align: middle;\n",
       "    }\n",
       "\n",
       "    .dataframe tbody tr th {\n",
       "        vertical-align: top;\n",
       "    }\n",
       "\n",
       "    .dataframe thead th {\n",
       "        text-align: right;\n",
       "    }\n",
       "</style>\n",
       "<table border=\"1\" class=\"dataframe\">\n",
       "  <thead>\n",
       "    <tr style=\"text-align: right;\">\n",
       "      <th></th>\n",
       "      <th>release_year</th>\n",
       "      <th>runtime_minutes</th>\n",
       "      <th>rating_percent</th>\n",
       "    </tr>\n",
       "  </thead>\n",
       "  <tbody>\n",
       "    <tr>\n",
       "      <td>count</td>\n",
       "      <td>43427.000000</td>\n",
       "      <td>43427.000000</td>\n",
       "      <td>43427.000000</td>\n",
       "    </tr>\n",
       "    <tr>\n",
       "      <td>mean</td>\n",
       "      <td>2013.951804</td>\n",
       "      <td>98.807700</td>\n",
       "      <td>62.321689</td>\n",
       "    </tr>\n",
       "    <tr>\n",
       "      <td>std</td>\n",
       "      <td>2.459885</td>\n",
       "      <td>18.757636</td>\n",
       "      <td>14.102408</td>\n",
       "    </tr>\n",
       "    <tr>\n",
       "      <td>min</td>\n",
       "      <td>2010.000000</td>\n",
       "      <td>75.000000</td>\n",
       "      <td>10.000000</td>\n",
       "    </tr>\n",
       "    <tr>\n",
       "      <td>25%</td>\n",
       "      <td>2012.000000</td>\n",
       "      <td>86.000000</td>\n",
       "      <td>54.000000</td>\n",
       "    </tr>\n",
       "    <tr>\n",
       "      <td>50%</td>\n",
       "      <td>2014.000000</td>\n",
       "      <td>94.000000</td>\n",
       "      <td>64.000000</td>\n",
       "    </tr>\n",
       "    <tr>\n",
       "      <td>75%</td>\n",
       "      <td>2016.000000</td>\n",
       "      <td>106.000000</td>\n",
       "      <td>72.000000</td>\n",
       "    </tr>\n",
       "    <tr>\n",
       "      <td>max</td>\n",
       "      <td>2018.000000</td>\n",
       "      <td>240.000000</td>\n",
       "      <td>100.000000</td>\n",
       "    </tr>\n",
       "  </tbody>\n",
       "</table>\n",
       "</div>"
      ],
      "text/plain": [
       "       release_year  runtime_minutes  rating_percent\n",
       "count  43427.000000     43427.000000    43427.000000\n",
       "mean    2013.951804        98.807700       62.321689\n",
       "std        2.459885        18.757636       14.102408\n",
       "min     2010.000000        75.000000       10.000000\n",
       "25%     2012.000000        86.000000       54.000000\n",
       "50%     2014.000000        94.000000       64.000000\n",
       "75%     2016.000000       106.000000       72.000000\n",
       "max     2018.000000       240.000000      100.000000"
      ]
     },
     "execution_count": 26,
     "metadata": {},
     "output_type": "execute_result"
    }
   ],
   "source": [
    "runtimes_df.describe()"
   ]
  },
  {
   "cell_type": "code",
   "execution_count": 27,
   "metadata": {},
   "outputs": [],
   "source": [
    "# Too many unique values in 'region' exist. Create a new column, 'domestic',\n",
    "# which sets a 1 or 0 value if domestic or foreign.\n",
    "\n",
    "runtimes_df['domestic'] = np.where(runtimes_df['region'] == \"US\", 1 , 0)"
   ]
  },
  {
   "cell_type": "code",
   "execution_count": 28,
   "metadata": {
    "scrolled": false
   },
   "outputs": [
    {
     "data": {
      "text/html": [
       "<div>\n",
       "<style scoped>\n",
       "    .dataframe tbody tr th:only-of-type {\n",
       "        vertical-align: middle;\n",
       "    }\n",
       "\n",
       "    .dataframe tbody tr th {\n",
       "        vertical-align: top;\n",
       "    }\n",
       "\n",
       "    .dataframe thead th {\n",
       "        text-align: right;\n",
       "    }\n",
       "</style>\n",
       "<table border=\"1\" class=\"dataframe\">\n",
       "  <thead>\n",
       "    <tr style=\"text-align: right;\">\n",
       "      <th></th>\n",
       "      <th>release_year</th>\n",
       "      <th>runtime_minutes</th>\n",
       "      <th>rating_percent</th>\n",
       "      <th>domestic</th>\n",
       "    </tr>\n",
       "  </thead>\n",
       "  <tbody>\n",
       "    <tr>\n",
       "      <td>count</td>\n",
       "      <td>43427.000000</td>\n",
       "      <td>43427.000000</td>\n",
       "      <td>43427.000000</td>\n",
       "      <td>43427.000000</td>\n",
       "    </tr>\n",
       "    <tr>\n",
       "      <td>mean</td>\n",
       "      <td>2013.951804</td>\n",
       "      <td>98.807700</td>\n",
       "      <td>62.321689</td>\n",
       "      <td>0.273148</td>\n",
       "    </tr>\n",
       "    <tr>\n",
       "      <td>std</td>\n",
       "      <td>2.459885</td>\n",
       "      <td>18.757636</td>\n",
       "      <td>14.102408</td>\n",
       "      <td>0.445581</td>\n",
       "    </tr>\n",
       "    <tr>\n",
       "      <td>min</td>\n",
       "      <td>2010.000000</td>\n",
       "      <td>75.000000</td>\n",
       "      <td>10.000000</td>\n",
       "      <td>0.000000</td>\n",
       "    </tr>\n",
       "    <tr>\n",
       "      <td>25%</td>\n",
       "      <td>2012.000000</td>\n",
       "      <td>86.000000</td>\n",
       "      <td>54.000000</td>\n",
       "      <td>0.000000</td>\n",
       "    </tr>\n",
       "    <tr>\n",
       "      <td>50%</td>\n",
       "      <td>2014.000000</td>\n",
       "      <td>94.000000</td>\n",
       "      <td>64.000000</td>\n",
       "      <td>0.000000</td>\n",
       "    </tr>\n",
       "    <tr>\n",
       "      <td>75%</td>\n",
       "      <td>2016.000000</td>\n",
       "      <td>106.000000</td>\n",
       "      <td>72.000000</td>\n",
       "      <td>1.000000</td>\n",
       "    </tr>\n",
       "    <tr>\n",
       "      <td>max</td>\n",
       "      <td>2018.000000</td>\n",
       "      <td>240.000000</td>\n",
       "      <td>100.000000</td>\n",
       "      <td>1.000000</td>\n",
       "    </tr>\n",
       "  </tbody>\n",
       "</table>\n",
       "</div>"
      ],
      "text/plain": [
       "       release_year  runtime_minutes  rating_percent      domestic\n",
       "count  43427.000000     43427.000000    43427.000000  43427.000000\n",
       "mean    2013.951804        98.807700       62.321689      0.273148\n",
       "std        2.459885        18.757636       14.102408      0.445581\n",
       "min     2010.000000        75.000000       10.000000      0.000000\n",
       "25%     2012.000000        86.000000       54.000000      0.000000\n",
       "50%     2014.000000        94.000000       64.000000      0.000000\n",
       "75%     2016.000000       106.000000       72.000000      1.000000\n",
       "max     2018.000000       240.000000      100.000000      1.000000"
      ]
     },
     "execution_count": 28,
     "metadata": {},
     "output_type": "execute_result"
    }
   ],
   "source": [
    "runtimes_df.describe()"
   ]
  },
  {
   "cell_type": "code",
   "execution_count": 29,
   "metadata": {},
   "outputs": [],
   "source": [
    "# Bin runtime_minutes to simplify swarmplot.\n",
    "# df_ages['age_by_decade'] = pd.cut(x=df_ages['age'], bins=[20, 29, 39, 49], labels=['20s', '30s', '40s'])\n",
    "\n",
    "runtimes_df['runtime_bin'] = pd.cut(x=runtimes_df['runtime_minutes'], bins=[75, 100, 125, 150, 175, 200, 225, 250], include_lowest=True)"
   ]
  },
  {
   "cell_type": "code",
   "execution_count": 31,
   "metadata": {},
   "outputs": [
    {
     "data": {
      "text/html": [
       "<div>\n",
       "<style scoped>\n",
       "    .dataframe tbody tr th:only-of-type {\n",
       "        vertical-align: middle;\n",
       "    }\n",
       "\n",
       "    .dataframe tbody tr th {\n",
       "        vertical-align: top;\n",
       "    }\n",
       "\n",
       "    .dataframe thead th {\n",
       "        text-align: right;\n",
       "    }\n",
       "</style>\n",
       "<table border=\"1\" class=\"dataframe\">\n",
       "  <thead>\n",
       "    <tr style=\"text-align: right;\">\n",
       "      <th></th>\n",
       "      <th>title</th>\n",
       "      <th>release_year</th>\n",
       "      <th>runtime_minutes</th>\n",
       "      <th>region</th>\n",
       "      <th>rating_percent</th>\n",
       "      <th>domestic</th>\n",
       "      <th>runtime_bin</th>\n",
       "    </tr>\n",
       "    <tr>\n",
       "      <th>tconst</th>\n",
       "      <th></th>\n",
       "      <th></th>\n",
       "      <th></th>\n",
       "      <th></th>\n",
       "      <th></th>\n",
       "      <th></th>\n",
       "      <th></th>\n",
       "    </tr>\n",
       "  </thead>\n",
       "  <tbody>\n",
       "    <tr>\n",
       "      <td>tt0063540</td>\n",
       "      <td>Sunghursh</td>\n",
       "      <td>2013</td>\n",
       "      <td>175.0</td>\n",
       "      <td>IN</td>\n",
       "      <td>70.0</td>\n",
       "      <td>0</td>\n",
       "      <td>(150.0, 175.0]</td>\n",
       "    </tr>\n",
       "    <tr>\n",
       "      <td>tt0069049</td>\n",
       "      <td>The Other Side of the Wind</td>\n",
       "      <td>2018</td>\n",
       "      <td>122.0</td>\n",
       "      <td>VE</td>\n",
       "      <td>69.0</td>\n",
       "      <td>0</td>\n",
       "      <td>(100.0, 125.0]</td>\n",
       "    </tr>\n",
       "    <tr>\n",
       "      <td>tt0137204</td>\n",
       "      <td>Joe Finds Grace</td>\n",
       "      <td>2017</td>\n",
       "      <td>83.0</td>\n",
       "      <td>CA</td>\n",
       "      <td>81.0</td>\n",
       "      <td>0</td>\n",
       "      <td>(74.999, 100.0]</td>\n",
       "    </tr>\n",
       "    <tr>\n",
       "      <td>tt0146592</td>\n",
       "      <td>Pál Adrienn</td>\n",
       "      <td>2010</td>\n",
       "      <td>136.0</td>\n",
       "      <td>PL</td>\n",
       "      <td>68.0</td>\n",
       "      <td>0</td>\n",
       "      <td>(125.0, 150.0]</td>\n",
       "    </tr>\n",
       "    <tr>\n",
       "      <td>tt0162942</td>\n",
       "      <td>Children of the Green Dragon</td>\n",
       "      <td>2010</td>\n",
       "      <td>89.0</td>\n",
       "      <td>PL</td>\n",
       "      <td>69.0</td>\n",
       "      <td>0</td>\n",
       "      <td>(74.999, 100.0]</td>\n",
       "    </tr>\n",
       "    <tr>\n",
       "      <td>tt0176694</td>\n",
       "      <td>The Tragedy of Man</td>\n",
       "      <td>2011</td>\n",
       "      <td>160.0</td>\n",
       "      <td>HU</td>\n",
       "      <td>78.0</td>\n",
       "      <td>0</td>\n",
       "      <td>(150.0, 175.0]</td>\n",
       "    </tr>\n",
       "    <tr>\n",
       "      <td>tt0192528</td>\n",
       "      <td>Heaven &amp; Hell</td>\n",
       "      <td>2018</td>\n",
       "      <td>104.0</td>\n",
       "      <td>US</td>\n",
       "      <td>40.0</td>\n",
       "      <td>1</td>\n",
       "      <td>(100.0, 125.0]</td>\n",
       "    </tr>\n",
       "    <tr>\n",
       "      <td>tt0230212</td>\n",
       "      <td>The Final Journey</td>\n",
       "      <td>2010</td>\n",
       "      <td>120.0</td>\n",
       "      <td>US</td>\n",
       "      <td>88.0</td>\n",
       "      <td>1</td>\n",
       "      <td>(100.0, 125.0]</td>\n",
       "    </tr>\n",
       "    <tr>\n",
       "      <td>tt0247643</td>\n",
       "      <td>Los pájaros se van con la muerte</td>\n",
       "      <td>2011</td>\n",
       "      <td>110.0</td>\n",
       "      <td>VE</td>\n",
       "      <td>40.0</td>\n",
       "      <td>0</td>\n",
       "      <td>(100.0, 125.0]</td>\n",
       "    </tr>\n",
       "    <tr>\n",
       "      <td>tt0249516</td>\n",
       "      <td>Foodfight!</td>\n",
       "      <td>2012</td>\n",
       "      <td>91.0</td>\n",
       "      <td>FI</td>\n",
       "      <td>19.0</td>\n",
       "      <td>0</td>\n",
       "      <td>(74.999, 100.0]</td>\n",
       "    </tr>\n",
       "  </tbody>\n",
       "</table>\n",
       "</div>"
      ],
      "text/plain": [
       "                                      title  release_year  runtime_minutes  \\\n",
       "tconst                                                                       \n",
       "tt0063540                         Sunghursh          2013            175.0   \n",
       "tt0069049        The Other Side of the Wind          2018            122.0   \n",
       "tt0137204                   Joe Finds Grace          2017             83.0   \n",
       "tt0146592                       Pál Adrienn          2010            136.0   \n",
       "tt0162942      Children of the Green Dragon          2010             89.0   \n",
       "tt0176694                The Tragedy of Man          2011            160.0   \n",
       "tt0192528                     Heaven & Hell          2018            104.0   \n",
       "tt0230212                 The Final Journey          2010            120.0   \n",
       "tt0247643  Los pájaros se van con la muerte          2011            110.0   \n",
       "tt0249516                        Foodfight!          2012             91.0   \n",
       "\n",
       "          region  rating_percent  domestic      runtime_bin  \n",
       "tconst                                                       \n",
       "tt0063540     IN            70.0         0   (150.0, 175.0]  \n",
       "tt0069049     VE            69.0         0   (100.0, 125.0]  \n",
       "tt0137204     CA            81.0         0  (74.999, 100.0]  \n",
       "tt0146592     PL            68.0         0   (125.0, 150.0]  \n",
       "tt0162942     PL            69.0         0  (74.999, 100.0]  \n",
       "tt0176694     HU            78.0         0   (150.0, 175.0]  \n",
       "tt0192528     US            40.0         1   (100.0, 125.0]  \n",
       "tt0230212     US            88.0         1   (100.0, 125.0]  \n",
       "tt0247643     VE            40.0         0   (100.0, 125.0]  \n",
       "tt0249516     FI            19.0         0  (74.999, 100.0]  "
      ]
     },
     "execution_count": 31,
     "metadata": {},
     "output_type": "execute_result"
    }
   ],
   "source": [
    "runtimes_df.head(10)"
   ]
  },
  {
   "cell_type": "code",
   "execution_count": null,
   "metadata": {},
   "outputs": [],
   "source": [
    "sns.swarmplot(x='rating_percent', y='runtime_bin', data=runtimes_df, hue='domestic', dodge=True)\n",
    "\n",
    "plt.title('Runtime Comparisons')\n",
    "plt.ylabel('Ratings as Percent')\n",
    "plt.xlabel('Runtime in Minutes')"
   ]
  },
  {
   "cell_type": "code",
   "execution_count": null,
   "metadata": {},
   "outputs": [],
   "source": [
    "### HEADCANNONS\n",
    "# imdb_title_basics=imdb_title_basics[~(imdb_title_basics['runtime_minutes']>240) & ~(imdb_title_basics['runtime_minutes']<75)]\n",
    "#imdb_title_basics = imdb_title_basics.drop_duplicates('primary_title', keep=False)\n",
    "#imdb_title_basics['primary_title'].value_counts()\n",
    "#imdb_title_basics.rename(columns={'primary_title':'movie'}, inplace=True)\n",
    "#imdb_title_basics.head()\n",
    "#imdb_combined = imdb_title_ratings.join(imdb_title_basics, how='left') #IMDB-title-ratings + IMDB-title-basics\n",
    "#imdb_combined.head()\n",
    "# imdb_title_akas - title, region\n",
    "# imdb_title_basics - primary_title, start_year, runtime_minutes\n",
    "# imdb_title_ratings - tconst, averagerating, numvotes  \n",
    "# bo_mojo - title, domestic_gross,foreign_gross, year\n",
    "# the_numbers - movie, domestic_gross, worldwide_gross, release_year ((the_numbers['release_year']=the_numbers['release_date'].dt.year))\n",
    "# theMovieDB - title, release_date, vote_average, vote_count"
   ]
  }
 ],
 "metadata": {
  "kernelspec": {
   "display_name": "learn-env",
   "language": "python",
   "name": "learn-env"
  },
  "language_info": {
   "codemirror_mode": {
    "name": "ipython",
    "version": 3
   },
   "file_extension": ".py",
   "mimetype": "text/x-python",
   "name": "python",
   "nbconvert_exporter": "python",
   "pygments_lexer": "ipython3",
   "version": "3.6.9"
  }
 },
 "nbformat": 4,
 "nbformat_minor": 2
}
