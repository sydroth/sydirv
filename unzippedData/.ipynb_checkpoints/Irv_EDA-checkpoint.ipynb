{
 "cells": [
  {
   "cell_type": "code",
   "execution_count": 1,
   "metadata": {},
   "outputs": [],
   "source": [
    "import pandas as pd\n",
    "import numpy as np\n",
    "import matplotlib.pyplot as plt\n"
   ]
  },
  {
   "cell_type": "markdown",
   "metadata": {},
   "source": [
    "Box Office Mojo\n",
    "Rotten Tomatoes\n",
    "TheMovieDB.org\n",
    "the-numbers.com\n"
   ]
  },
  {
   "cell_type": "code",
   "execution_count": 8,
   "metadata": {},
   "outputs": [
    {
     "name": "stdout",
     "output_type": "stream",
     "text": [
      "Irv_EDA.ipynb             imdb.title.basics.csv     rt.movie_info.tsv\n",
      "bom.movie_gross.csv       imdb.title.crew.csv       rt.reviews.tsv\n",
      "imdb.name.basics.csv      imdb.title.principals.csv tmdb.movies.csv\n",
      "imdb.title.akas.csv       imdb.title.ratings.csv    tn.movie_budgets.csv\n"
     ]
    }
   ],
   "source": [
    "# bo_mojo=pd.read_csv('unzippedData/bom.movie_gross.csv')\n",
    "# bo_mojo.head()\n"
   ]
  },
  {
   "cell_type": "code",
   "execution_count": null,
   "metadata": {},
   "outputs": [],
   "source": []
  }
 ],
 "metadata": {
  "kernelspec": {
   "display_name": "learn-env",
   "language": "python",
   "name": "learn-env"
  },
  "language_info": {
   "codemirror_mode": {
    "name": "ipython",
    "version": 3
   },
   "file_extension": ".py",
   "mimetype": "text/x-python",
   "name": "python",
   "nbconvert_exporter": "python",
   "pygments_lexer": "ipython3",
   "version": "3.6.9"
  }
 },
 "nbformat": 4,
 "nbformat_minor": 4
}
